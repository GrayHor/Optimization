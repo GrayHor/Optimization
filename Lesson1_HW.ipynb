{
 "cells": [
  {
   "cell_type": "code",
   "execution_count": 166,
   "metadata": {},
   "outputs": [],
   "source": [
    "import numpy as np\n",
    "import matplotlib.pyplot as plt"
   ]
  },
  {
   "cell_type": "code",
   "execution_count": 167,
   "metadata": {},
   "outputs": [
    {
     "data": {
      "text/plain": [
       "array([1., 1., 1., 1., 1., 1., 1., 1., 1., 1.])"
      ]
     },
     "execution_count": 167,
     "metadata": {},
     "output_type": "execute_result"
    }
   ],
   "source": [
    "arr_one = np.ones(10)\n",
    "arr_one"
   ]
  },
  {
   "cell_type": "code",
   "execution_count": 168,
   "metadata": {},
   "outputs": [
    {
     "data": {
      "text/plain": [
       "array([[ 1.,  1.,  1.,  1.,  1.,  1.,  1.,  1.,  1.,  1.],\n",
       "       [ 1.,  1.,  2.,  1.,  3.,  0.,  5., 10.,  1.,  2.]])"
      ]
     },
     "execution_count": 168,
     "metadata": {},
     "output_type": "execute_result"
    }
   ],
   "source": [
    "X = np.array([arr_one, [1, 1, 2, 1, 3, 0, 5, 10, 1, 2]])\n",
    "X"
   ]
  },
  {
   "cell_type": "code",
   "execution_count": 169,
   "metadata": {},
   "outputs": [
    {
     "data": {
      "text/plain": [
       "[45, 55, 50, 49, 65, 35, 75, 80, 50, 60]"
      ]
     },
     "execution_count": 169,
     "metadata": {},
     "output_type": "execute_result"
    }
   ],
   "source": [
    "y = [45, 55, 50, 49, 65, 35, 75, 80, 50, 60]\n",
    "y"
   ]
  },
  {
   "cell_type": "markdown",
   "metadata": {},
   "source": [
    "y = a * x + b"
   ]
  },
  {
   "cell_type": "code",
   "execution_count": 170,
   "metadata": {},
   "outputs": [
    {
     "data": {
      "text/plain": [
       "[<matplotlib.lines.Line2D at 0x228d9be4188>]"
      ]
     },
     "execution_count": 170,
     "metadata": {},
     "output_type": "execute_result"
    },
    {
     "data": {
      "image/png": "[encoded data removed]",
      "text/plain": [
       "<Figure size 432x288 with 1 Axes>"
      ]
     },
     "metadata": {
      "needs_background": "light"
     },
     "output_type": "display_data"
    }
   ],
   "source": [
    "a = 4 \n",
    "b = 40\n",
    "plt.scatter(X[1, :],y)\n",
    "plt.plot(X[1,:], 4.11*X[1,:] + 45.7)"
   ]
  },
  {
   "cell_type": "markdown",
   "metadata": {},
   "source": [
    "w=(X.TX)−1X.Ty"
   ]
  },
  {
   "cell_type": "code",
   "execution_count": 200,
   "metadata": {},
   "outputs": [
    {
     "data": {
      "text/plain": [
       "array([45.70153061,  4.11479592])"
      ]
     },
     "execution_count": 200,
     "metadata": {},
     "output_type": "execute_result"
    }
   ],
   "source": [
    "w = (np.linalg.inv(X @ X.T)) @ X @ y\n",
    "w"
   ]
  },
  {
   "cell_type": "code",
   "execution_count": 201,
   "metadata": {},
   "outputs": [],
   "source": [
    "def culc_mse(y_pred, y):\n",
    "    return 1 / len(y) * np.sum((y_pred - y)**2)"
   ]
  },
  {
   "cell_type": "code",
   "execution_count": 202,
   "metadata": {},
   "outputs": [],
   "source": [
    "def y_pred_(w, X):\n",
    "    return w @ X"
   ]
  },
  {
   "cell_type": "code",
   "execution_count": 203,
   "metadata": {},
   "outputs": [
    {
     "data": {
      "text/plain": [
       "38.89668367346939"
      ]
     },
     "execution_count": 203,
     "metadata": {},
     "output_type": "execute_result"
    }
   ],
   "source": [
    "mse = culc_mse(y_pred_(w,X), y)\n",
    "mse"
   ]
  },
  {
   "cell_type": "code",
   "execution_count": 209,
   "metadata": {},
   "outputs": [],
   "source": [
    "w = np.array([1, 0.5])\n",
    "alpha = 1e-3"
   ]
  },
  {
   "cell_type": "code",
   "execution_count": 210,
   "metadata": {},
   "outputs": [
    {
     "name": "stdout",
     "output_type": "stream",
     "text": [
      "Итерация: 0, w: [1.1082 0.838 ], mse: 2944.0686019600003 \n",
      "Итерация: 1000, w: [30.67118357  6.89026448], mse: 160.35058202468048 \n",
      "Итерация: 2000, w: [40.39069003  5.09548326], mse: 54.060201767350875 \n",
      "Итерация: 3000, w: [43.82499192  4.46131314], mse: 40.78984876824932 \n",
      "Итерация: 4000, w: [45.03847221  4.23723472], mse: 39.13304531816842 \n",
      "Итерация: 5000, w: [45.46724477  4.15805859], mse: 38.92619342263965 \n",
      "Итерация: 6000, w: [45.61874778  4.1300824 ], mse: 38.900367965382316 \n",
      "Итерация: 7000, w: [45.67228003  4.12019726], mse: 38.897143657280886 \n",
      "Итерация: 8000, w: [45.69119518  4.11670444], mse: 38.89674110244404 \n",
      "Итерация: 9000, w: [45.69787868  4.11547028], mse: 38.896690843476364 \n"
     ]
    }
   ],
   "source": [
    "for iter in range(10000):\n",
    "    \n",
    "    new_w = w - (alpha * 2 /len(y)) * ((X @ (w @ X - y)))\n",
    "    y_pred = new_w @ X\n",
    "    mse = culc_mse(y_pred, y)\n",
    "    w = new_w\n",
    "     \n",
    "    if iter % 1000 == 0:\n",
    "        print('Итерация: {}, w: {}, mse: {} '.format(iter, w, mse))"
   ]
  },
  {
   "cell_type": "code",
   "execution_count": null,
   "metadata": {},
   "outputs": [],
   "source": []
  }
 ],
 "metadata": {
  "kernelspec": {
   "display_name": "Python 3",
   "language": "python",
   "name": "python3"
  },
  "language_info": {
   "codemirror_mode": {
    "name": "ipython",
    "version": 3
   },
   "file_extension": ".py",
   "mimetype": "text/x-python",
   "name": "python",
   "nbconvert_exporter": "python",
   "pygments_lexer": "ipython3",
   "version": "3.7.4"
  }
 },
 "nbformat": 4,
 "nbformat_minor": 2
}
